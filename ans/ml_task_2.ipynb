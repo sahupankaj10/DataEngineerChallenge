{
 "cells": [
  {
   "cell_type": "markdown",
   "metadata": {
    "pycharm": {
     "name": "#%% md\n"
    }
   },
   "source": [
    "# Interview challenge for PayPay.\n",
    "\n",
    "Data: markplace web session log on data folder\n",
    "\n",
    "Machine Learning Processing & Analytical goal:\n",
    "\n",
    "    - Predict the session length for a given IP"
   ]
  },
  {
   "cell_type": "code",
   "execution_count": 1,
   "outputs": [],
   "source": [
    "# Libraries and setup\n",
    "# Auto reload changes\n",
    "%load_ext autoreload\n",
    "%autoreload 2\n",
    "\n",
    "import sys\n",
    "sys.path.append(\"../\") # go to parent dir\n",
    "\n",
    "# source dependencies, log_file_schema & data handler\n",
    "from src.dependencies import *\n",
    "from src.log_file_schema import schema\n",
    "from src.data_handler import DataHandler\n",
    "\n",
    "# plot lib\n",
    "import matplotlib.pyplot as plt\n",
    "plt.style.use('ggplot')\n",
    "\n",
    "# forcasting lib and matrics\n",
    "# https://xgboost.readthedocs.io/en/latest/\n",
    "import xgboost\n",
    "from sklearn.model_selection import KFold\n",
    "from sklearn.model_selection import cross_val_score"
   ],
   "metadata": {
    "collapsed": false,
    "pycharm": {
     "name": "#%%\n"
    }
   }
  },
  {
   "cell_type": "code",
   "execution_count": 3,
   "outputs": [],
   "source": [
    "#create or get spark session\n",
    "spark = SparkSession.builder \\\n",
    "    .master(\"local[*]\")\\\n",
    "    .appName(\"PayPayChallenge\")\\\n",
    "    .getOrCreate()"
   ],
   "metadata": {
    "collapsed": false,
    "pycharm": {
     "name": "#%%\n"
    }
   }
  },
  {
   "cell_type": "code",
   "execution_count": 4,
   "outputs": [
    {
     "output_type": "stream",
     "name": "stdout",
     "text": [
      "+------------------+------+------+------+------+\n|    session_length|octet0|octet1|octet2|octet3|\n+------------------+------+------+------+------+\n| 69.81707191467285|     1|   186|    41|     1|\n| 231.7906957184896|     1|   186|    76|    11|\n| 33.04862296581268|     1|   187|   228|   210|\n| 33.92300724051893|     1|   187|   228|    88|\n| 59.14387809485197|     1|    23|   101|   102|\n| 9.247098922729492|     1|    23|   226|    88|\n| 210.9620418548584|     1|    38|    21|    65|\n|48.736650466918945|     1|    38|    22|   121|\n|23.680201530456543|     1|    38|    23|    24|\n| 7.674998104572296|     1|    39|    14|   229|\n| 67.07872497009816|     1|    39|    15|   172|\n|3.8426599502563477|     1|    39|    32|    15|\n|22.044874668121338|     1|    39|    35|   191|\n|10.105690002441406|     1|    39|    35|   217|\n|1.5804920196533203|     1|    39|    46|   200|\n| 177.6636962890625|     1|    39|    60|   199|\n|168.64113640785217|     1|    39|    60|    35|\n| 9.330794131412404|     1|    39|    61|   253|\n| 4.877890765666962|     1|    39|    62|   102|\n| 56.01950880885124|     1|    39|    62|   195|\n+------------------+------+------+------+------+\nonly showing top 20 rows\n\n"
     ]
    }
   ],
   "source": [
    "def duration(start, end):\n",
    "    \"\"\"\n",
    "    Retunr time duration in seconds\n",
    "\n",
    "    @param start: timestamp\n",
    "    @param end: timestamnp\n",
    "    \"\"\"\n",
    "    try:\n",
    "        num_of_seconds = (end - start).total_seconds()\n",
    "    except:\n",
    "        num_of_seconds = 0\n",
    "    return num_of_seconds\n",
    "\n",
    "get_duration = udf(duration, FloatType())\n",
    "\n",
    "def preprocess_data(spark):\n",
    "    \"\"\"\n",
    "    Processing the data \n",
    "    :param spark: spark session\n",
    "    :return processed data \n",
    "    \"\"\"\n",
    "    df = spark.read.csv(log_file, schema=schema, sep=\" \").repartition(num_partitions).cache()\n",
    "    split_client = split(df[\"client:port\"], \":\")\n",
    "    split_backend = split(df[\"backend:port\"], \":\")\n",
    "    split_request = split(df[\"request\"], \" \")\n",
    "\n",
    "    df=df.withColumn(\"client_ip\", split_client.getItem(0)) \\\n",
    "                .withColumn(\"client_port\", split_client.getItem(1)) \\\n",
    "                .withColumn(\"backend_ip\", split_backend.getItem(0)) \\\n",
    "                .withColumn(\"backend_port\", split_backend.getItem(1)) \\\n",
    "                .withColumn(\"request_action\", split_request.getItem(0)) \\\n",
    "                .withColumn(\"request_url\", split_request.getItem(1)) \\\n",
    "                .withColumn(\"request_protocol\", split_request.getItem(2)) \\\n",
    "                .withColumn(\"current_timestamp\", col(\"timestamp\").cast(\"timestamp\")) \\\n",
    "                .drop(\"client:port\",\"backend:port\",\"request\").cache()\n",
    "    \n",
    "    window_func_ip = Window.partitionBy(\"client_ip\").orderBy(\"current_timestamp\")\n",
    "    df = df.withColumn(\"previous_timestamp\",\n",
    "                            lag(col(\"current_timestamp\")).over(window_func_ip)) \\\n",
    "                .withColumn(\"session_duration\",\n",
    "                            get_duration(col(\"previous_timestamp\"), col(\"current_timestamp\"))) \\\n",
    "                .withColumn(\"is_new_session\",\n",
    "                            when((col(\"session_duration\") > session_time), 1).otherwise(0)) \\\n",
    "                .withColumn(\"count_session\",\n",
    "                            sum(col(\"is_new_session\")).over(window_func_ip)) \\\n",
    "                .withColumn(\"ip_session_count\",\n",
    "                            concat_ws(\"_\", col(\"client_ip\"), col(\"count_session\")))\n",
    "\n",
    "    df=df.select([\"ip_session_count\", \"client_ip\", \"request_url\", \"previous_timestamp\", \n",
    "                  \"current_timestamp\", \"session_duration\", \"is_new_session\", \"count_session\"]);\n",
    "    \n",
    "    window_func_session = Window.partitionBy(\"ip_session_count\").orderBy(\"current_timestamp\")\n",
    "    df = df.withColumn(\"previous_timestamp_session\",\n",
    "                              lag(df[\"current_timestamp\"]).over(window_func_session)) \\\n",
    "                  .withColumn(\"current_session_duration\",\n",
    "                              get_duration(col(\"previous_timestamp_session\"), col(\"current_timestamp\")))\n",
    "    df = df.groupby(\"ip_session_count\").agg(\n",
    "            sum(\"current_session_duration\").alias(\"session_length\")).cache()\n",
    "    \n",
    "    splitt= split(df[\"ip_session_count\"], \"_\")\n",
    "    df=df.withColumn(\"ip\", splitt.getItem(0))\n",
    "    df=df.select([\"ip\", \"session_length\"])\n",
    "    df=df.na.drop(subset=[\"session_length\"])\n",
    "    df=df.na.drop(subset=[\"ip\"])\n",
    "    \n",
    "    splitt2=split(df[\"ip\"], \"\\\\.\")\n",
    "    df=df.withColumn(\"octet0\", splitt2.getItem(0))\n",
    "    df=df.withColumn(\"octet1\", splitt2.getItem(1))\n",
    "    df=df.withColumn(\"octet2\", splitt2.getItem(2))\n",
    "    df=df.withColumn(\"octet3\", splitt2.getItem(3))\n",
    "    \n",
    "    df=df.drop(\"ip\")\n",
    "    df=df.na.drop(subset=[\"octet0\"])\n",
    "    df=df.na.drop(subset=[\"octet1\"])\n",
    "    df=df.na.drop(subset=[\"octet2\"])\n",
    "    df=df.na.drop(subset=[\"octet3\"])\n",
    "    \n",
    "    return df\n",
    "\n",
    "\n",
    "def data_loader(spark):\n",
    "    \"\"\"\n",
    "    Data loader\n",
    "    \n",
    "    @param spark: spark session\n",
    "    \"\"\"\n",
    "    dataset2 = preprocess_data(spark).cache()\n",
    "    dataset2.show()\n",
    "    return dataset2.select(\"*\").toPandas()\n",
    "\n",
    "df=data_loader(spark)"
   ],
   "metadata": {
    "collapsed": false,
    "pycharm": {
     "name": "#%%\n"
    }
   }
  },
  {
   "cell_type": "code",
   "execution_count": 5,
   "metadata": {},
   "outputs": [
    {
     "output_type": "stream",
     "name": "stdout",
     "text": [
      "  octet0 octet1 octet2 octet3  session_length\n0      1    186     41      1       69.817072\n1      1    186     76     11      231.790696\n2      1    187    228    210       33.048623\n3      1    187    228     88       33.923007\n4      1     23    101    102       59.143878\n(88867, 5)\n"
     ]
    }
   ],
   "source": [
    "df = df[['octet0', 'octet1', 'octet2', 'octet3', 'session_length']]\n",
    "print(df.head())\n",
    "print(df.shape)"
   ]
  },
  {
   "cell_type": "code",
   "execution_count": 7,
   "metadata": {},
   "outputs": [
    {
     "output_type": "stream",
     "name": "stdout",
     "text": [
      "RMSE xgboost: 252.1921026861234\n"
     ]
    }
   ],
   "source": [
    "#  lib and matrics\n",
    "# https://xgboost.readthedocs.io/en/latest/\n",
    "import numpy as np\n",
    "\n",
    "df = df.apply(pd.to_numeric)\n",
    "X = df[['octet0', 'octet1', 'octet2', 'octet3']]\n",
    "Y = df[['session_length']]\n",
    "\n",
    "model = xgboost.XGBRegressor(objective='reg:squarederror')\n",
    "kfold = KFold(n_splits=10, random_state=7)\n",
    "results = cross_val_score(model, X, Y, cv=kfold, scoring='neg_mean_squared_error')\n",
    "print(\"RMSE xgboost:\", np.mean(np.sqrt(np.abs(results))))"
   ]
  },
  {
   "cell_type": "code",
   "execution_count": 8,
   "metadata": {},
   "outputs": [
    {
     "output_type": "stream",
     "name": "stdout",
     "text": [
      "RMSE Randomforest: 278.25198155790395\n"
     ]
    }
   ],
   "source": [
    "#  lib and matrics\n",
    "# https://scikit-learn.org/stable/modules/generated/sklearn.ensemble.RandomForestRegressor.html\n",
    "from sklearn.ensemble import RandomForestRegressor\n",
    "\n",
    "model_rf = RandomForestRegressor()\n",
    "model_rf.fit(X, Y)\n",
    "kfold = KFold(n_splits=10, random_state=7)\n",
    "results = cross_val_score(model_rf, X, Y, cv=kfold, scoring='neg_mean_squared_error')\n",
    "print(\"RMSE Randomforest:\", np.mean(np.sqrt(np.abs(results))))\n"
   ]
  },
  {
   "cell_type": "code",
   "execution_count": null,
   "metadata": {},
   "outputs": [],
   "source": []
  }
 ],
 "metadata": {
  "kernelspec": {
   "name": "Python 3.8.5 64-bit ('ad-hzm-video')",
   "display_name": "Python 3.8.5 64-bit ('ad-hzm-video')",
   "metadata": {
    "interpreter": {
     "hash": "22aa93368867714963484c9d6f9b248e60873c4fbd9f31b8702991b4180e19bd"
    }
   }
  },
  "language_info": {
   "codemirror_mode": {
    "name": "ipython",
    "version": 3
   },
   "file_extension": ".py",
   "mimetype": "text/x-python",
   "name": "python",
   "nbconvert_exporter": "python",
   "pygments_lexer": "ipython3",
   "version": "3.8.5-final"
  }
 },
 "nbformat": 4,
 "nbformat_minor": 2
}